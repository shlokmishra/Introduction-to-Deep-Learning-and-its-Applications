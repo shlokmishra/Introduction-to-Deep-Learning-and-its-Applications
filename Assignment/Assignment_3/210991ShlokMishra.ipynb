{
  "nbformat": 4,
  "nbformat_minor": 0,
  "metadata": {
    "colab": {
      "name": "210991ShlokMishra.ipynb",
      "provenance": []
    },
    "kernelspec": {
      "name": "python3",
      "display_name": "Python 3"
    },
    "language_info": {
      "name": "python"
    }
  },
  "cells": [
    {
      "cell_type": "code",
      "execution_count": 1,
      "metadata": {
        "id": "21Jkgf61UMp9"
      },
      "outputs": [],
      "source": [
        "import numpy as np\n",
        "import matplotlib as mpl\n",
        "import pandas as pd\n",
        "\n",
        "mpl.use('nbagg')\n",
        "import matplotlib.pyplot as plt\n",
        "plt.ioff()\n",
        "\n",
        "import tensorflow as tf\n",
        "\n",
        "%load_ext autoreload\n",
        "%autoreload 2\n",
        "%reload_ext autoreload"
      ]
    },
    {
      "cell_type": "code",
      "source": [
        "(x_train, y_train), (x_test, y_test) = tf.keras.datasets.mnist.load_data()"
      ],
      "metadata": {
        "colab": {
          "base_uri": "https://localhost:8080/"
        },
        "id": "L9BVGuADU_6W",
        "outputId": "13c723bc-8c0d-4339-f404-bd4260d35783"
      },
      "execution_count": 2,
      "outputs": [
        {
          "output_type": "stream",
          "name": "stdout",
          "text": [
            "Downloading data from https://storage.googleapis.com/tensorflow/tf-keras-datasets/mnist.npz\n",
            "11493376/11490434 [==============================] - 0s 0us/step\n",
            "11501568/11490434 [==============================] - 0s 0us/step\n"
          ]
        }
      ]
    },
    {
      "cell_type": "code",
      "source": [
        "print(\"x_test\", x_test.shape)\n",
        "print(\"y_test\", y_test.shape)\n",
        "print(\"x_train\", x_train.shape)\n",
        "print(\"y_train\", y_train.shape)"
      ],
      "metadata": {
        "colab": {
          "base_uri": "https://localhost:8080/"
        },
        "id": "A9E8d-4XVYBp",
        "outputId": "5576e39a-c68f-4812-c697-2d0ab6e8e721"
      },
      "execution_count": 3,
      "outputs": [
        {
          "output_type": "stream",
          "name": "stdout",
          "text": [
            "x_test (10000, 28, 28)\n",
            "y_test (10000,)\n",
            "x_train (60000, 28, 28)\n",
            "y_train (60000,)\n"
          ]
        }
      ]
    },
    {
      "cell_type": "code",
      "source": [
        "#Normalisation\n",
        "x_train = x_train.astype('float32')/ 255.0\n",
        "x_test = x_test.astype('float32')/ 255.0\n",
        "\n",
        "#Getting labels and conversion to one hot label\n",
        "labels = [0,1,2,3,4,5,6,7,8,9]\n",
        "y_train = tf.one_hot(y_train, len(labels)).numpy()\n",
        "y_test = tf.one_hot(y_test, len(labels)).numpy()\n",
        "\n",
        "#Dimensions\n",
        "print(\"x_test\", x_test.shape)\n",
        "print(\"y_test\", y_test.shape)\n",
        "print(\"x_train\", x_train.shape)\n",
        "print(\"y_train\", y_train.shape)\n",
        "\n",
        "fig,axes = plt.subplots(3,10,figsize=[20,6])\n",
        "\n",
        "for i, j in zip(list(np.repeat(list(range(3)),10)), list(range(10))*3):\n",
        "  axes[i][j].imshow(x_train[i+j], cmap='gray', vmin=0, vmax=1)\n",
        "  axes[i][j].set(xticks=(), yticks=(), title=str(y_train[i+j].argmax()))\n",
        "  \n",
        "fig.show()"
      ],
      "metadata": {
        "colab": {
          "base_uri": "https://localhost:8080/",
          "height": 429
        },
        "id": "iBkD16IMV5ag",
        "outputId": "ff532338-a84a-491c-9ea0-715a9a09b95d"
      },
      "execution_count": 21,
      "outputs": [
        {
          "output_type": "stream",
          "name": "stdout",
          "text": [
            "x_test (10000, 28, 28)\n",
            "y_test (10000, 10)\n",
            "x_train (60000, 28, 28)\n",
            "y_train (60000, 10)\n"
          ]
        },
        {
          "output_type": "display_data",
          "data": {
            "text/plain": [
              "<Figure size 1440x432 with 30 Axes>"
            ],
            "image/png": "[encoded data removed]"
          },
          "metadata": {}
        }
      ]
    },
    {
      "cell_type": "code",
      "source": [
        "#Creating the model\n",
        "input_layer = tf.keras.layers.Input(shape=tuple(x_train.shape[1:]), name = \"Inpur_Layer\")\n",
        "LSTM_layer_1 = tf.keras.layers.LSTM(units=50, return_sequences= True, name = \"LSTM_Layer_1\")(input_layer)\n",
        "LSTM_layer_2 = tf.keras.layers.LSTM(units=50, name=\"LSTM_layer_2\")(LSTM_layer_1)\n",
        "output_layer = tf.keras.layers.Dense(units=10, activation='softmax', name=\"Dense_Output_Layer\")(LSTM_layer_2)\n",
        "\n",
        "model = tf.keras.Model(input_layer, output_layer)\n",
        "model.summary()"
      ],
      "metadata": {
        "colab": {
          "base_uri": "https://localhost:8080/"
        },
        "id": "gPMvKxaD1T-P",
        "outputId": "b86326f7-cb28-4ce4-d5be-affbc98c6f87"
      },
      "execution_count": 27,
      "outputs": [
        {
          "output_type": "stream",
          "name": "stdout",
          "text": [
            "Model: \"model\"\n",
            "_________________________________________________________________\n",
            " Layer (type)                Output Shape              Param #   \n",
            "=================================================================\n",
            " Inpur_Layer (InputLayer)    [(None, 28, 28)]          0         \n",
            "                                                                 \n",
            " LSTM_Layer_1 (LSTM)         (None, 28, 50)            15800     \n",
            "                                                                 \n",
            " LSTM_layer_2 (LSTM)         (None, 50)                20200     \n",
            "                                                                 \n",
            " Dense_Output_Layer (Dense)  (None, 10)                510       \n",
            "                                                                 \n",
            "=================================================================\n",
            "Total params: 36,510\n",
            "Trainable params: 36,510\n",
            "Non-trainable params: 0\n",
            "_________________________________________________________________\n"
          ]
        }
      ]
    },
    {
      "cell_type": "code",
      "source": [
        "#Compile the model\n",
        "model.compile(\n",
        "    optimizer = tf.keras.optimizers.Adam(),\n",
        "    loss=tf.keras.losses.CategoricalCrossentropy(),\n",
        "    metrics=[\"accuracy\"]\n",
        ")\n",
        "#Train the model\n",
        "epochs = 25\n",
        "\n",
        "history = model.fit(\n",
        "    x=x_train,\n",
        "    y=y_train,\n",
        "    validation_data = (x_test, y_test),\n",
        "    epochs=epochs,\n",
        "    verbose=2\n",
        ")"
      ],
      "metadata": {
        "colab": {
          "base_uri": "https://localhost:8080/"
        },
        "id": "UjxsEdU13uuh",
        "outputId": "98f0ff08-2b22-42c7-e4a6-dc72c53d346e"
      },
      "execution_count": 28,
      "outputs": [
        {
          "output_type": "stream",
          "name": "stdout",
          "text": [
            "Epoch 1/25\n",
            "1875/1875 - 48s - loss: 0.4056 - accuracy: 0.8698 - val_loss: 0.1425 - val_accuracy: 0.9568 - 48s/epoch - 25ms/step\n",
            "Epoch 2/25\n",
            "1875/1875 - 44s - loss: 0.1212 - accuracy: 0.9636 - val_loss: 0.0974 - val_accuracy: 0.9715 - 44s/epoch - 24ms/step\n",
            "Epoch 3/25\n",
            "1875/1875 - 43s - loss: 0.0834 - accuracy: 0.9751 - val_loss: 0.0717 - val_accuracy: 0.9775 - 43s/epoch - 23ms/step\n",
            "Epoch 4/25\n",
            "1875/1875 - 43s - loss: 0.0660 - accuracy: 0.9806 - val_loss: 0.0679 - val_accuracy: 0.9799 - 43s/epoch - 23ms/step\n",
            "Epoch 5/25\n",
            "1875/1875 - 43s - loss: 0.0531 - accuracy: 0.9844 - val_loss: 0.0673 - val_accuracy: 0.9799 - 43s/epoch - 23ms/step\n",
            "Epoch 6/25\n",
            "1875/1875 - 44s - loss: 0.0448 - accuracy: 0.9867 - val_loss: 0.0502 - val_accuracy: 0.9854 - 44s/epoch - 23ms/step\n",
            "Epoch 7/25\n",
            "1875/1875 - 44s - loss: 0.0379 - accuracy: 0.9886 - val_loss: 0.0494 - val_accuracy: 0.9835 - 44s/epoch - 23ms/step\n",
            "Epoch 8/25\n",
            "1875/1875 - 43s - loss: 0.0321 - accuracy: 0.9901 - val_loss: 0.0528 - val_accuracy: 0.9831 - 43s/epoch - 23ms/step\n",
            "Epoch 9/25\n",
            "1875/1875 - 43s - loss: 0.0283 - accuracy: 0.9914 - val_loss: 0.0566 - val_accuracy: 0.9831 - 43s/epoch - 23ms/step\n",
            "Epoch 10/25\n",
            "1875/1875 - 43s - loss: 0.0267 - accuracy: 0.9919 - val_loss: 0.0544 - val_accuracy: 0.9846 - 43s/epoch - 23ms/step\n",
            "Epoch 11/25\n",
            "1875/1875 - 43s - loss: 0.0230 - accuracy: 0.9930 - val_loss: 0.0414 - val_accuracy: 0.9877 - 43s/epoch - 23ms/step\n",
            "Epoch 12/25\n",
            "1875/1875 - 43s - loss: 0.0216 - accuracy: 0.9936 - val_loss: 0.0431 - val_accuracy: 0.9884 - 43s/epoch - 23ms/step\n",
            "Epoch 13/25\n",
            "1875/1875 - 43s - loss: 0.0188 - accuracy: 0.9941 - val_loss: 0.0480 - val_accuracy: 0.9861 - 43s/epoch - 23ms/step\n",
            "Epoch 14/25\n",
            "1875/1875 - 42s - loss: 0.0185 - accuracy: 0.9941 - val_loss: 0.0440 - val_accuracy: 0.9881 - 42s/epoch - 23ms/step\n",
            "Epoch 15/25\n",
            "1875/1875 - 43s - loss: 0.0148 - accuracy: 0.9952 - val_loss: 0.0428 - val_accuracy: 0.9881 - 43s/epoch - 23ms/step\n",
            "Epoch 16/25\n",
            "1875/1875 - 44s - loss: 0.0144 - accuracy: 0.9958 - val_loss: 0.0472 - val_accuracy: 0.9883 - 44s/epoch - 23ms/step\n",
            "Epoch 17/25\n",
            "1875/1875 - 43s - loss: 0.0138 - accuracy: 0.9956 - val_loss: 0.0440 - val_accuracy: 0.9883 - 43s/epoch - 23ms/step\n",
            "Epoch 18/25\n",
            "1875/1875 - 43s - loss: 0.0130 - accuracy: 0.9959 - val_loss: 0.0450 - val_accuracy: 0.9876 - 43s/epoch - 23ms/step\n",
            "Epoch 19/25\n",
            "1875/1875 - 43s - loss: 0.0119 - accuracy: 0.9966 - val_loss: 0.0557 - val_accuracy: 0.9839 - 43s/epoch - 23ms/step\n",
            "Epoch 20/25\n",
            "1875/1875 - 42s - loss: 0.0113 - accuracy: 0.9965 - val_loss: 0.0407 - val_accuracy: 0.9887 - 42s/epoch - 23ms/step\n",
            "Epoch 21/25\n",
            "1875/1875 - 43s - loss: 0.0099 - accuracy: 0.9966 - val_loss: 0.0428 - val_accuracy: 0.9887 - 43s/epoch - 23ms/step\n",
            "Epoch 22/25\n",
            "1875/1875 - 43s - loss: 0.0100 - accuracy: 0.9967 - val_loss: 0.0429 - val_accuracy: 0.9886 - 43s/epoch - 23ms/step\n",
            "Epoch 23/25\n",
            "1875/1875 - 44s - loss: 0.0081 - accuracy: 0.9974 - val_loss: 0.0506 - val_accuracy: 0.9872 - 44s/epoch - 24ms/step\n",
            "Epoch 24/25\n",
            "1875/1875 - 44s - loss: 0.0095 - accuracy: 0.9969 - val_loss: 0.0558 - val_accuracy: 0.9865 - 44s/epoch - 23ms/step\n",
            "Epoch 25/25\n",
            "1875/1875 - 43s - loss: 0.0070 - accuracy: 0.9978 - val_loss: 0.0461 - val_accuracy: 0.9881 - 43s/epoch - 23ms/step\n"
          ]
        }
      ]
    },
    {
      "cell_type": "code",
      "source": [
        "#Accuracy v/s epoch graph\n",
        "ax=plt.subplot()\n",
        "plt.xlim(0,epochs+1)\n",
        "plt.xlabel(\"Epochs\")\n",
        "plt.ylabel(\"Accuracy\")\n",
        "\n",
        "ax.set_ylim(bottom = min(history.history['accuracy'] + history.history['val_accuracy']) - 0.01)\n",
        "training_acc, = ax.plot(range(1,epochs+1), history.history['accuracy'], color=\"blue\")\n",
        "test_acc, = ax.plot(range (1,epochs+1), history.history['val_accuracy'], color=\"orange\")\n",
        "\n",
        "plt.legend([training_acc, test_acc], [\"Accuracy on Training Data\", \"Accuracy on Test Data\"])\n",
        "\n",
        "plt.show()"
      ],
      "metadata": {
        "colab": {
          "base_uri": "https://localhost:8080/",
          "height": 283
        },
        "id": "HgrceEZW4hw9",
        "outputId": "1fcd34b0-a856-4ad5-fef1-c9a37a31413a"
      },
      "execution_count": 30,
      "outputs": [
        {
          "output_type": "display_data",
          "data": {
            "text/plain": [
              "<Figure size 432x288 with 1 Axes>"
            ],
            "image/png": "[encoded data removed]"
          },
          "metadata": {
            "needs_background": "light"
          }
        }
      ]
    },
    {
      "cell_type": "code",
      "source": [
        "# Test the model for a random image in the test data\n",
        "\n",
        "import random\n",
        "\n",
        "img_idx = random.randint (0, 9999)\n",
        "\n",
        "prediction = model.predict(x_test[img_idx].reshape(1, *x_test.shape[1:])).argmax()\n",
        "\n",
        "print(\"The prediction is \", prediction, \", and the value is \", y_test[img_idx].argmax(), sep='')\n",
        "\n",
        "ax = plt.subplot()\n",
        "ax.imshow(x_test[img_idx], cmap='gray', vmin=0, vmax=1)\n",
        "ax.set(xticks = [], yticks =[])\n",
        "plt.show()"
      ],
      "metadata": {
        "colab": {
          "base_uri": "https://localhost:8080/",
          "height": 269
        },
        "id": "TYKlVZHq6PrY",
        "outputId": "ab8de2d2-09cc-45e5-8cdd-dc7b16d453e5"
      },
      "execution_count": 31,
      "outputs": [
        {
          "output_type": "stream",
          "name": "stdout",
          "text": [
            "The prediction is 2, and the value is 2\n"
          ]
        },
        {
          "output_type": "display_data",
          "data": {
            "text/plain": [
              "<Figure size 432x288 with 1 Axes>"
            ],
            "image/png": "[encoded data removed]"
          },
          "metadata": {}
        }
      ]
    }
  ]
}